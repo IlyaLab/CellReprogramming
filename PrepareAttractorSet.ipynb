{
 "cells": [
  {
   "cell_type": "code",
   "execution_count": null,
   "id": "1addf764",
   "metadata": {},
   "outputs": [],
   "source": [
    "# Generate 100 cell state pairs randomly\n",
    "rm(list = ls())"
   ]
  },
  {
   "cell_type": "code",
   "execution_count": null,
   "id": "da4b33c5",
   "metadata": {},
   "outputs": [],
   "source": [
    "library(GA)"
   ]
  },
  {
   "cell_type": "code",
   "execution_count": null,
   "id": "e7829214",
   "metadata": {},
   "outputs": [],
   "source": [
    "set.seed(5)\n",
    "n_genes=10\n",
    "attractors=matrix(sample(0:2^(n_genes-1), 200),nrow=100)"
   ]
  },
  {
   "cell_type": "code",
   "execution_count": null,
   "id": "3955bec0",
   "metadata": {},
   "outputs": [],
   "source": [
    "write.table(file=\"100_cell_state_pairs.txt\", attractors, col.names=FALSE, row.names=FALSE)"
   ]
  },
  {
   "cell_type": "code",
   "execution_count": null,
   "id": "ee16a20e",
   "metadata": {},
   "outputs": [],
   "source": [
    "length(which(apply(attractors, 1, function(x){ return(length(unique(x)))})==2))"
   ]
  },
  {
   "cell_type": "code",
   "execution_count": null,
   "id": "9d687c1d",
   "metadata": {},
   "outputs": [],
   "source": [
    "parent_full_folder=\"Full_Network_Attractors\"\n",
    "dir.create(parent_full_folder)"
   ]
  },
  {
   "cell_type": "code",
   "execution_count": null,
   "id": "e5d8fc60",
   "metadata": {},
   "outputs": [],
   "source": [
    "# FULL NETWORK \n",
    "for (att in 1:nrow(attractors)){\n",
    "    curr_atts=attractors[att, ]\n",
    "    write.table(file=paste(parent_full_folder, \"/attractors\", att, \".txt\" , sep=\"\"), t(curr_atts), col.names=FALSE,row.names=FALSE)\n",
    "}\n",
    " write.table(file=paste(parent_full_folder,\"/attractor_info.txt\", sep=\"\"), c(1,2,2), col.names=FALSE,row.names=FALSE)\n",
    "             "
   ]
  },
  {
   "cell_type": "code",
   "execution_count": null,
   "id": "fbea0765",
   "metadata": {},
   "outputs": [],
   "source": [
    "# SAMPLED NETWORK\n",
    "parent_sampled_folder=\"Sampled_Network_Attractors\"\n",
    "dir.create(parent_sampled_folder)\n",
    "num_sub_bn_sets=100\n",
    "num_sel_bits=5\n",
    "num_bits=10"
   ]
  },
  {
   "cell_type": "code",
   "execution_count": null,
   "id": "e7a1ec59",
   "metadata": {},
   "outputs": [],
   "source": [
    "for (as in 1:nrow(attractors)){\n",
    "    sub_folder=paste(parent_sampled_folder, as, sep=\"/\")\n",
    "    dir.create(sub_folder) \n",
    "    inds=matrix(0, nrow=num_sub_bn_sets, ncol=num_sel_bits)\n",
    "    i=1\n",
    "    while (i<=num_sub_bn_sets){\n",
    "        sampled=unlist(sample(1:num_bits,num_sel_bits))\n",
    "        ats=sapply(attractors[as,], function(x){decimal2binary(x, n_genes)})\n",
    "        zz=apply(ats,2,function(x){binary2decimal(x[sampled])}) \n",
    "        if(!(any(table(zz)>1))){\n",
    "            write.table(file=paste(sub_folder , \"/attractors\" , i,  \".txt\", sep=\"\"), row.names=FALSE, col.names=FALSE, t(zz))\n",
    "            inds[i,]=sampled\n",
    "            i=i+1\n",
    "        }\n",
    "    }\n",
    "    for (node in 1:n_genes){\n",
    "        aa=which(apply(inds,1,function(x){length(which(x==node))>0})==TRUE)\n",
    "        if(length(unique(as.vector(inds[aa,])))<n_genes)\n",
    "           print(paste(\"Node\", node,   \" is not seen together at least once with each of other nodes\", sep=\"\"))\n",
    "    }\n",
    "    write.table(file=paste(sub_folder , \"/attractor_info.txt\", sep=\"\"), row.names=FALSE, col.names=FALSE, c(1, length(zz), length(zz)))\n",
    "    write.table(file=paste(sub_folder ,\"/ind_matrix.txt\", sep=\"\"), row.names=FALSE, col.names=FALSE, inds)\n",
    "}"
   ]
  },
  {
   "cell_type": "code",
   "execution_count": null,
   "id": "0acaad62",
   "metadata": {},
   "outputs": [],
   "source": []
  }
 ],
 "metadata": {
  "environment": {
   "name": "r-cpu.4-0.m76",
   "type": "gcloud",
   "uri": "gcr.io/deeplearning-platform-release/r-cpu.4-0:m76"
  },
  "kernelspec": {
   "display_name": "Python 3 (ipykernel)",
   "language": "python",
   "name": "python3"
  },
  "language_info": {
   "codemirror_mode": {
    "name": "ipython",
    "version": 3
   },
   "file_extension": ".py",
   "mimetype": "text/x-python",
   "name": "python",
   "nbconvert_exporter": "python",
   "pygments_lexer": "ipython3",
   "version": "3.9.1"
  }
 },
 "nbformat": 4,
 "nbformat_minor": 5
}
