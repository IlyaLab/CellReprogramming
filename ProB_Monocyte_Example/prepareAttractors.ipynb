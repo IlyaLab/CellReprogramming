{
 "cells": [
  {
   "cell_type": "code",
   "execution_count": 52,
   "id": "21d03943",
   "metadata": {},
   "outputs": [],
   "source": [
    "rm(list=ls()) "
   ]
  },
  {
   "cell_type": "code",
   "execution_count": 32,
   "id": "6ab2001b-28c9-4c7b-9dc4-ff171bed38ac",
   "metadata": {},
   "outputs": [
    {
     "name": "stderr",
     "output_type": "stream",
     "text": [
      "Installing package into ‘/home/jupyter/.R/library’\n",
      "(as ‘lib’ is unspecified)\n",
      "\n"
     ]
    }
   ],
   "source": [
    "#install.packages(\"GA\")"
   ]
  },
  {
   "cell_type": "code",
   "execution_count": 53,
   "id": "795bd8a9",
   "metadata": {},
   "outputs": [],
   "source": [
    "library(ggplot2)\n",
    "library(dplyr)\n",
    "library(GA)"
   ]
  },
  {
   "cell_type": "code",
   "execution_count": 54,
   "id": "6ed168a0",
   "metadata": {},
   "outputs": [],
   "source": [
    "departure_cell=\"ProB\"\n",
    "destination_cell=\"Mono\""
   ]
  },
  {
   "cell_type": "code",
   "execution_count": 55,
   "id": "3d527e56",
   "metadata": {},
   "outputs": [],
   "source": [
    "imputed_data=read.table(\"Data/scimpute_count.csv\", sep=\",\", header=TRUE, row.names=1)"
   ]
  },
  {
   "cell_type": "code",
   "execution_count": 56,
   "id": "f9a5600e",
   "metadata": {},
   "outputs": [],
   "source": [
    "rel_TFs=unlist(read.table(\"Data/TFS\", header=FALSE))"
   ]
  },
  {
   "cell_type": "code",
   "execution_count": 57,
   "id": "8d22c6ef",
   "metadata": {},
   "outputs": [],
   "source": [
    "rel_TFs[rel_TFs==\"CEBPa\"]=\"CEBPA\"\n",
    "rel_TFs[rel_TFs==\"CEBPb\"]=\"CEBPB\"\n",
    "rel_TFs[rel_TFs==\"E2A\"]=\"TCF3\"\n",
    "rel_TFs[rel_TFs==\"EBF\"]=\"EBF1\"\n",
    "rel_TFs[rel_TFs==\"Eto2\"]=\"CBFA2T3\"\n",
    "rel_TFs[rel_TFs==\"Fli1\"]=\"FLI1\"\n",
    "rel_TFs[rel_TFs==\"Foxo1\"]=\"FOXO1\"\n",
    "rel_TFs[rel_TFs==\"Gata1\"]=\"GATA1\"\n",
    "rel_TFs[rel_TFs==\"Gata2\"]=\"GATA2\"\n",
    "rel_TFs[rel_TFs==\"Gfi1b\"]=\"GFI1B\"\n",
    "rel_TFs[rel_TFs==\"Ldb1\"]=\"LDB1\"\n",
    "rel_TFs[rel_TFs==\"Lmo2\"]=\"LMO2\"\n",
    "rel_TFs[rel_TFs==\"Lyl1\"]=\"LYL1\"\n",
    "rel_TFs[rel_TFs==\"Meis1\"]=\"MEIS1\"\n",
    "rel_TFs[rel_TFs==\"Mtgr1\"]=\"CBFA2T2\"\n",
    "rel_TFs[rel_TFs==\"Oct2\"]=\"POU2F2\"\n",
    "rel_TFs[rel_TFs==\"p300\"]=\"EP300\"\n",
    "rel_TFs[rel_TFs==\"P65\"]=\"RELA\"\n",
    "rel_TFs[rel_TFs==\"Pparg\"]=\"PPARG\"\n",
    "rel_TFs[rel_TFs==\"PU1\"]=\"SPI1\"\n",
    "rel_TFs[rel_TFs==\"Runx1\"]=\"RUNX1\"\n",
    "rel_TFs[rel_TFs==\"SCL\"]=\"TAL1\"\n",
    "rel_TFs[rel_TFs==\"Stat3\"]=\"STAT3\"\n",
    "rel_TFs[rel_TFs==\"Stat4\"]=\"STAT4\"\n",
    "rel_TFs[rel_TFs==\"Stat5a\"]=\"STAT5A\"\n",
    "rel_TFs[rel_TFs==\"Stat5b\"]=\"STAT5B\"\n",
    "rel_TFs[rel_TFs==\"Stat6\"]=\"STAT6\""
   ]
  },
  {
   "cell_type": "code",
   "execution_count": 58,
   "id": "c2557b43",
   "metadata": {},
   "outputs": [],
   "source": [
    "labels=unlist(read.table(\"Data/cell_types.txt\"))"
   ]
  },
  {
   "cell_type": "code",
   "execution_count": 59,
   "id": "d1265d18",
   "metadata": {},
   "outputs": [],
   "source": [
    "departure_ind=which(labels==departure_cell)\n",
    "destination_ind=which(labels==destination_cell)"
   ]
  },
  {
   "cell_type": "code",
   "execution_count": 60,
   "id": "82d2cc87",
   "metadata": {},
   "outputs": [],
   "source": [
    "TF_data=imputed_data[rel_TFs,]\n",
    "write.table(rel_TFs, file=\"TF_list.csv\", col.names=FALSE, row.names=FALSE)"
   ]
  },
  {
   "cell_type": "code",
   "execution_count": 61,
   "id": "edd2b442",
   "metadata": {},
   "outputs": [],
   "source": [
    "departure_data=TF_data[,departure_ind]\n",
    "destination_data=TF_data[,destination_ind]\n",
    "labels=c(rep.int(departure_cell, ncol(departure_data)),rep.int(destination_cell, ncol(destination_data)))"
   ]
  },
  {
   "cell_type": "code",
   "execution_count": 62,
   "id": "43144652",
   "metadata": {},
   "outputs": [],
   "source": [
    "all_tf_data=cbind(departure_data, destination_data)\n",
    "bin_tf_data=(all_tf_data>0)+0"
   ]
  },
  {
   "cell_type": "code",
   "execution_count": 63,
   "id": "c2e27bea",
   "metadata": {},
   "outputs": [],
   "source": [
    "bin_departure_data=t((departure_data>0)+0)\n",
    "bin_destination_data=t((destination_data>0)+0)\n"
   ]
  },
  {
   "cell_type": "code",
   "execution_count": 65,
   "id": "fba81c60",
   "metadata": {},
   "outputs": [],
   "source": [
    "departure_counts=table(apply(bin_departure_data,1, function(x){paste(x, collapse = \"\")}))\n",
    "destination_counts=table(apply(bin_destination_data,1, function(x){paste(x, collapse = \"\")}))"
   ]
  },
  {
   "cell_type": "code",
   "execution_count": 66,
   "id": "b705026a",
   "metadata": {},
   "outputs": [],
   "source": [
    "n_cell_pairs=500"
   ]
  },
  {
   "cell_type": "code",
   "execution_count": 67,
   "id": "8ed2ebed",
   "metadata": {},
   "outputs": [],
   "source": [
    "departure_inds=sample(1:length(departure_counts), size= n_cell_pairs, prob=departure_counts, replace=TRUE)\n",
    "destination_inds=sample(1:length(destination_counts), size= n_cell_pairs, prob=destination_counts, replace=TRUE)"
   ]
  },
  {
   "cell_type": "code",
   "execution_count": 72,
   "id": "d63a85a7",
   "metadata": {},
   "outputs": [],
   "source": [
    "# SAMPLED NETWORK\n",
    "parent_sampled_folder=\"Sampled_Network_Attractors\"\n",
    "dir.create(parent_sampled_folder)\n",
    "num_sub_bn_sets=500\n",
    "num_sel_bits=10\n",
    "num_bits=30\n",
    "n_genes=30"
   ]
  },
  {
   "cell_type": "code",
   "execution_count": 73,
   "id": "362fdf01",
   "metadata": {},
   "outputs": [],
   "source": [
    "j=0;\n",
    "for (j in 1:length(departure_inds)){       \n",
    "        sub_folder=paste(parent_sampled_folder, j, sep=\"/\")\n",
    "        dir.create(sub_folder) \n",
    "        inds=matrix(0, nrow=num_sub_bn_sets, ncol=num_sel_bits)\n",
    "        i=1\n",
    "        ats=rbind(bin_departure_data[departure_inds[j],], bin_destination_data[destination_inds[j],])\n",
    "\n",
    "        while (i<=num_sub_bn_sets){\n",
    "            sampled=unlist(sample(1:num_bits,num_sel_bits))\n",
    "            zz=apply(ats,1,function(x){binary2decimal(x[sampled])}) \n",
    "            #ats=sapply(attractors[as,], function(x){decimal2binary(x, n_genes)})\n",
    "            if(!(any(table(zz)>1))){\n",
    "                write.table(file=paste(sub_folder , \"/attractors\" , i,  \".txt\", sep=\"\"), row.names=FALSE, col.names=FALSE, t(zz))\n",
    "                inds[i,]=sampled\n",
    "                i=i+1\n",
    "            }\n",
    "        }\n",
    "        for (node in 1:n_genes){\n",
    "            aa=which(apply(inds,1,function(x){length(which(x==node))>0})==TRUE)\n",
    "            if(length(unique(as.vector(inds[aa,])))<n_genes)\n",
    "               print(paste(\"Node\", node,   \" is not seen together at least once with each of other nodes\", sep=\"\"))\n",
    "        }\n",
    "        write.table(file=paste(sub_folder , \"/attractor_info.txt\", sep=\"\"), row.names=FALSE, col.names=FALSE, c(1, length(zz), length(zz)))\n",
    "        write.table(file=paste(sub_folder ,\"/ind_matrix.txt\", sep=\"\"), row.names=FALSE, col.names=FALSE, inds)\n",
    "}"
   ]
  },
  {
   "cell_type": "code",
   "execution_count": 79,
   "id": "7cbc51e4-d1ab-4730-b6cd-efe610335e9c",
   "metadata": {},
   "outputs": [],
   "source": [
    "write.table(bin_departure_data[departure_inds,],quote=FALSE, file=\"departure_atts.csv\", sep=\",\")"
   ]
  },
  {
   "cell_type": "code",
   "execution_count": 80,
   "id": "cfb6e811-a4d1-4059-b3bc-fa75f8a337db",
   "metadata": {},
   "outputs": [],
   "source": [
    "write.table(bin_destination_data[destination_inds,],quote=FALSE, file=\"destination_atts.csv\", sep=\",\")"
   ]
  },
  {
   "cell_type": "code",
   "execution_count": null,
   "id": "375dfe93-ffd6-4911-87e7-4e47ced41dbe",
   "metadata": {},
   "outputs": [],
   "source": [
    "departure_attractors=apply(bin_departure_data[departure_inds,], 1, binary2decimal)\n",
    "destination_attractors=apply(bin_destination_data[departure_inds,], 1, binary2decimal)\n",
    "dep_des_atts=cbind(departure_attractors, destination_attractors)\n",
    "write.table(file=\"Attractors.csv\", dep_des_atts, sep=",", row.names=FALSE, col.names=FALSE)"
   ]
  }
 ],
 "metadata": {
  "environment": {
   "kernel": "ir",
   "name": "r-cpu.4-1.m87",
   "type": "gcloud",
   "uri": "gcr.io/deeplearning-platform-release/r-cpu.4-1:m87"
  },
  "kernelspec": {
   "display_name": "Julia 1.4.2",
   "language": "julia",
   "name": "julia-1.4"
  },
  "language_info": {
   "file_extension": ".jl",
   "mimetype": "application/julia",
   "name": "julia",
   "version": "1.4.2"
  }
 },
 "nbformat": 4,
 "nbformat_minor": 5
}
