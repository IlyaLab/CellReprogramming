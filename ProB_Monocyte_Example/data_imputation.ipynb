{
 "cells": [
  {
   "cell_type": "code",
   "execution_count": null,
   "id": "4ca13d6c",
   "metadata": {},
   "outputs": [],
   "source": [
    " rm(list=ls()) "
   ]
  },
  {
   "cell_type": "code",
   "execution_count": null,
   "id": "1209666d",
   "metadata": {},
   "outputs": [],
   "source": [
    "library(scRecover)\n",
    "library(BiocParallel)\n",
    "param <- MulticoreParam(workers = 4, progressbar = TRUE)\n",
    "register(param)"
   ]
  },
  {
   "cell_type": "code",
   "execution_count": null,
   "id": "395619d3",
   "metadata": {},
   "outputs": [],
   "source": [
    "anno_files=c(\"GSM3587996_BM1.anno.txt\",\"GSM3587997_BM2.anno.txt\",\"GSM3587999_BM3.anno.txt\", \"GSM3588001_BM4.anno.txt\" )\n",
    "anno=list()\n",
    "i=j=1\n",
    "for (afile in anno_files){ \n",
    "  anno[[i]]=read.csv2(paste(\"BiologicalAnalysis/healthy_samples/\", afile, sep=\"\"), sep=\"\\t\", header=TRUE, row.names=1)\n",
    "  i=i+1\n",
    "}\n",
    "exp_files=c(\"GSM3587996_BM1.dem.txt\", \"GSM3587997_BM2.dem.txt\", \"GSM3587998_BM3.dem.txt\", \"GSM3588000_BM4.dem.txt\")\n",
    "exp=list()\n",
    "for (efile in exp_files){ \n",
    "  exp[[j]]=t(read.csv2(paste(\"BiologicalAnalysis/healthy_samples/\", efile, sep=\"\"), sep=\"\\t\", header=TRUE, row.names=1))\n",
    "  j=j+1\n",
    "}"
   ]
  },
  {
   "cell_type": "code",
   "execution_count": null,
   "id": "a2afeee2",
   "metadata": {},
   "outputs": [],
   "source": [
    "sample_label=list()\n",
    "for (i in 1:length(anno)){ \n",
    "  sample_label[[i]]=cbind(rownames(exp[[i]]), anno[[i]][rownames(exp[[i]]),\"CellType\"])\n",
    "}"
   ]
  },
  {
   "cell_type": "code",
   "execution_count": null,
   "id": "f4f3000f",
   "metadata": {},
   "outputs": [],
   "source": [
    "all_raw_exp=do.call(rbind, exp) "
   ]
  },
  {
   "cell_type": "code",
   "execution_count": null,
   "id": "7e33b1b7",
   "metadata": {},
   "outputs": [],
   "source": [
    "sample_labels=do.call(rbind, sample_label)\n",
    "colnames(sample_labels)=c(\"CellID\", \"CellType\")"
   ]
  },
  {
   "cell_type": "code",
   "execution_count": null,
   "id": "b125c315",
   "metadata": {},
   "outputs": [],
   "source": [
    "prob_cells=sample_labels[which(sample_labels[,\"CellType\"]==\"ProB\"),\"CellID\"]\n",
    "mono_cells=sample_labels[which(sample_labels[,\"CellType\"]==\"Mono\"),\"CellID\"]   \n",
    "sample_labels_rel=rbind(sample_labels[which(sample_labels[,\"CellType\"]==\"ProB\"),], \n",
    "                  sample_labels[which(sample_labels[,\"CellType\"]==\"Mono\"),])\n"
   ]
  },
  {
   "cell_type": "code",
   "execution_count": null,
   "id": "7aef9854",
   "metadata": {},
   "outputs": [],
   "source": [
    "colnames(sample_labels_rel)=c(\"CellID\", \"CellType\")\n",
    "write.table(sample_labels_rel, file=\"cell_types_prob_mono.txt\",quote=FALSE,  row.names=FALSE)"
   ]
  },
  {
   "cell_type": "code",
   "execution_count": null,
   "id": "e459c664",
   "metadata": {},
   "outputs": [],
   "source": [
    "raw_exp=rbind(all_raw_exp[prob_cells, ],all_raw_exp[mono_cells, ])"
   ]
  },
  {
   "cell_type": "code",
   "execution_count": null,
   "id": "e45c538e",
   "metadata": {},
   "outputs": [],
   "source": [
    "param <- MulticoreParam(workers = 18, progressbar = TRUE)\n",
    "register(param)\n",
    "labels=unlist(sample_labels_rel[,2])\n",
    "screcover_scImpute_exp=scRecover(counts=t(raw_exp),labels=labels, outputDir = \"./Data_prob_mono/\",  parallel = TRUE, BPPARAM = param)\n"
   ]
  }
 ],
 "metadata": {
  "kernelspec": {
   "display_name": "R",
   "language": "R",
   "name": "ir"
  },
  "language_info": {
   "codemirror_mode": "r",
   "file_extension": ".r",
   "mimetype": "text/x-r-source",
   "name": "R",
   "pygments_lexer": "r",
   "version": "4.2.1"
  }
 },
 "nbformat": 4,
 "nbformat_minor": 5
}
