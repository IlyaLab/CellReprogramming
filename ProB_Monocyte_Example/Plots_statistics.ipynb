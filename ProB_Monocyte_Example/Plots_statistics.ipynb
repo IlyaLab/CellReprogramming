{
 "cells": [
  {
   "cell_type": "code",
   "execution_count": 8,
   "id": "ff22bb1c",
   "metadata": {},
   "outputs": [],
   "source": [
    "rm(list=ls()) "
   ]
  },
  {
   "cell_type": "code",
   "execution_count": 9,
   "id": "dc990d8e",
   "metadata": {},
   "outputs": [
    {
     "name": "stderr",
     "output_type": "stream",
     "text": [
      "Warning message in dir.create(figure_folder):\n",
      "“'Figures' already exists”\n"
     ]
    }
   ],
   "source": [
    "figure_folder=\"Figures\"\n",
    "dir.create(figure_folder)"
   ]
  },
  {
   "cell_type": "code",
   "execution_count": 11,
   "id": "80aacb3a-1610-4958-bfcd-c7c220e4cbc0",
   "metadata": {},
   "outputs": [
    {
     "name": "stderr",
     "output_type": "stream",
     "text": [
      "Installing package into ‘/home/jupyter/.R/library’\n",
      "(as ‘lib’ is unspecified)\n",
      "\n"
     ]
    }
   ],
   "source": [
    "install.packages('Rtsne')"
   ]
  },
  {
   "cell_type": "code",
   "execution_count": 13,
   "id": "657ee775",
   "metadata": {},
   "outputs": [],
   "source": [
    "library(ggplot2)\n",
    "library(dplyr)\n",
    "library(Rtsne)"
   ]
  },
  {
   "cell_type": "code",
   "execution_count": 14,
   "id": "58207c4a",
   "metadata": {},
   "outputs": [],
   "source": [
    "departure_cell=\"ProB\"\n",
    "destination_cell=\"Mono\""
   ]
  },
  {
   "cell_type": "code",
   "execution_count": 15,
   "id": "5f1c33a9",
   "metadata": {},
   "outputs": [],
   "source": [
    "imputed_data=read.table(\"Data/scimpute_count.csv\", sep=\",\", header=TRUE, row.names=1)"
   ]
  },
  {
   "cell_type": "code",
   "execution_count": 16,
   "id": "7cc25d2d",
   "metadata": {},
   "outputs": [],
   "source": [
    "raw_data=read.table(\"Data/raw_data.csv\", sep=\",\", header=TRUE, row.names=1)"
   ]
  },
  {
   "cell_type": "code",
   "execution_count": 17,
   "id": "678d9e65",
   "metadata": {},
   "outputs": [
    {
     "data": {
      "text/html": [
       "<style>\n",
       ".list-inline {list-style: none; margin:0; padding: 0}\n",
       ".list-inline>li {display: inline-block}\n",
       ".list-inline>li:not(:last-child)::after {content: \"\\00b7\"; padding: 0 .5ex}\n",
       "</style>\n",
       "<ol class=list-inline><li>27899</li><li>4677</li></ol>\n"
      ],
      "text/latex": [
       "\\begin{enumerate*}\n",
       "\\item 27899\n",
       "\\item 4677\n",
       "\\end{enumerate*}\n"
      ],
      "text/markdown": [
       "1. 27899\n",
       "2. 4677\n",
       "\n",
       "\n"
      ],
      "text/plain": [
       "[1] 27899  4677"
      ]
     },
     "metadata": {},
     "output_type": "display_data"
    }
   ],
   "source": [
    "dim(raw_data)"
   ]
  },
  {
   "cell_type": "code",
   "execution_count": 18,
   "id": "7e4c8702",
   "metadata": {},
   "outputs": [
    {
     "data": {
      "text/html": [
       "<style>\n",
       ".list-inline {list-style: none; margin:0; padding: 0}\n",
       ".list-inline>li {display: inline-block}\n",
       ".list-inline>li:not(:last-child)::after {content: \"\\00b7\"; padding: 0 .5ex}\n",
       "</style>\n",
       "<ol class=list-inline><li>27899</li><li>4677</li></ol>\n"
      ],
      "text/latex": [
       "\\begin{enumerate*}\n",
       "\\item 27899\n",
       "\\item 4677\n",
       "\\end{enumerate*}\n"
      ],
      "text/markdown": [
       "1. 27899\n",
       "2. 4677\n",
       "\n",
       "\n"
      ],
      "text/plain": [
       "[1] 27899  4677"
      ]
     },
     "metadata": {},
     "output_type": "display_data"
    }
   ],
   "source": [
    "dim(imputed_data)"
   ]
  },
  {
   "cell_type": "code",
   "execution_count": 19,
   "id": "324e1d2c",
   "metadata": {},
   "outputs": [],
   "source": [
    "rel_TFs=unlist(read.table(\"Data/TFS\", header=FALSE))"
   ]
  },
  {
   "cell_type": "code",
   "execution_count": 20,
   "id": "8bb9c08e",
   "metadata": {},
   "outputs": [],
   "source": [
    "rel_TFs[rel_TFs==\"CEBPa\"]=\"CEBPA\"\n",
    "rel_TFs[rel_TFs==\"CEBPb\"]=\"CEBPB\"\n",
    "rel_TFs[rel_TFs==\"E2A\"]=\"TCF3\"\n",
    "rel_TFs[rel_TFs==\"EBF\"]=\"EBF1\"\n",
    "rel_TFs[rel_TFs==\"Eto2\"]=\"CBFA2T3\"\n",
    "rel_TFs[rel_TFs==\"Fli1\"]=\"FLI1\"\n",
    "rel_TFs[rel_TFs==\"Foxo1\"]=\"FOXO1\"\n",
    "rel_TFs[rel_TFs==\"Gata1\"]=\"GATA1\"\n",
    "rel_TFs[rel_TFs==\"Gata2\"]=\"GATA2\"\n",
    "rel_TFs[rel_TFs==\"Gfi1b\"]=\"GFI1B\"\n",
    "rel_TFs[rel_TFs==\"Ldb1\"]=\"LDB1\"\n",
    "rel_TFs[rel_TFs==\"Lmo2\"]=\"LMO2\"\n",
    "rel_TFs[rel_TFs==\"Lyl1\"]=\"LYL1\"\n",
    "rel_TFs[rel_TFs==\"Meis1\"]=\"MEIS1\"\n",
    "rel_TFs[rel_TFs==\"Mtgr1\"]=\"CBFA2T2\"\n",
    "rel_TFs[rel_TFs==\"Oct2\"]=\"POU2F2\"\n",
    "rel_TFs[rel_TFs==\"p300\"]=\"EP300\"\n",
    "rel_TFs[rel_TFs==\"P65\"]=\"RELA\"\n",
    "rel_TFs[rel_TFs==\"Pparg\"]=\"PPARG\"\n",
    "rel_TFs[rel_TFs==\"PU1\"]=\"SPI1\"\n",
    "rel_TFs[rel_TFs==\"Runx1\"]=\"RUNX1\"\n",
    "rel_TFs[rel_TFs==\"SCL\"]=\"TAL1\"\n",
    "rel_TFs[rel_TFs==\"Stat3\"]=\"STAT3\"\n",
    "rel_TFs[rel_TFs==\"Stat4\"]=\"STAT4\"\n",
    "rel_TFs[rel_TFs==\"Stat5a\"]=\"STAT5A\"\n",
    "rel_TFs[rel_TFs==\"Stat5b\"]=\"STAT5B\"\n",
    "rel_TFs[rel_TFs==\"Stat6\"]=\"STAT6\""
   ]
  },
  {
   "cell_type": "code",
   "execution_count": 21,
   "id": "fa806005",
   "metadata": {},
   "outputs": [
    {
     "data": {
      "text/html": [
       "30"
      ],
      "text/latex": [
       "30"
      ],
      "text/markdown": [
       "30"
      ],
      "text/plain": [
       "[1] 30"
      ]
     },
     "metadata": {},
     "output_type": "display_data"
    }
   ],
   "source": [
    "length(rel_TFs)"
   ]
  },
  {
   "cell_type": "code",
   "execution_count": 22,
   "id": "8f249c1b",
   "metadata": {},
   "outputs": [],
   "source": [
    "labels=unlist(read.table(\"Data/cell_types.txt\"))"
   ]
  },
  {
   "cell_type": "code",
   "execution_count": 23,
   "id": "4f29ee8c",
   "metadata": {},
   "outputs": [],
   "source": [
    "departure_ind=which(labels==departure_cell)\n",
    "destination_ind=which(labels==destination_cell)"
   ]
  },
  {
   "cell_type": "code",
   "execution_count": 24,
   "id": "162d34a6",
   "metadata": {},
   "outputs": [],
   "source": [
    "TF_data=imputed_data[rel_TFs,]"
   ]
  },
  {
   "cell_type": "code",
   "execution_count": 25,
   "id": "d762bb0b",
   "metadata": {},
   "outputs": [],
   "source": [
    "departure_data=TF_data[,departure_ind]\n",
    "destination_data=TF_data[,destination_ind]\n",
    "labels=c(rep.int(departure_cell, ncol(departure_data)),rep.int(destination_cell, ncol(destination_data)))"
   ]
  },
  {
   "cell_type": "code",
   "execution_count": 26,
   "id": "ca14dbd5",
   "metadata": {},
   "outputs": [],
   "source": [
    "all_tf_data=cbind(departure_data, destination_data)\n",
    "bin_tf_data=(all_tf_data>0)+0"
   ]
  },
  {
   "cell_type": "code",
   "execution_count": 27,
   "id": "37f41aec",
   "metadata": {},
   "outputs": [],
   "source": [
    "TF_raw_data=raw_data[rel_TFs,]\n",
    "departure_raw_data=TF_raw_data[,departure_ind]\n",
    "destination_raw_data=TF_raw_data[,destination_ind]\n",
    "all_tf_raw_data=cbind(departure_raw_data, destination_raw_data)"
   ]
  },
  {
   "cell_type": "code",
   "execution_count": 28,
   "id": "be226eab",
   "metadata": {},
   "outputs": [],
   "source": [
    "zero_raw=length(which(all_tf_raw_data==0))\n",
    "non_zero_raw=length(which(all_tf_raw_data>0))\n",
    "zero_all=length(which(all_tf_data==0))\n",
    "non_zero_all=length(which(all_tf_data>0))\n",
    "changed=length(intersect(which(all_tf_raw_data==0), which(all_tf_data>0)))"
   ]
  },
  {
   "cell_type": "code",
   "execution_count": 29,
   "id": "2d42a122",
   "metadata": {},
   "outputs": [],
   "source": [
    "counts_mat_raw= as.data.frame(cbind(unlist(all_tf_raw_data[all_tf_raw_data>0]), \"Before Imputation\"))\n",
    "counts_mat_imputed=as.data.frame(cbind(unlist(all_tf_data[all_tf_data>0]), \"After Imputation\"))\n",
    "colnames(counts_mat_raw)=c(\"Counts\", \"Imputation\")\n",
    "colnames(counts_mat_imputed)=c(\"Counts\", \"Imputation\")\n",
    "\n",
    "counts_mat_raw$Counts=as.numeric(counts_mat_raw$Counts)\n",
    "counts_mat_imputed$Counts=as.numeric(counts_mat_imputed$Counts)\n",
    "counts_mat=rbind(counts_mat_raw,counts_mat_imputed)\n",
    "counts_mat$Imputation_ordered = factor(counts_mat$Imputation, levels=c('Before Imputation','After Imputation'))"
   ]
  },
  {
   "cell_type": "code",
   "execution_count": 45,
   "id": "8c010a4c-86dc-440f-be86-ee2232f5c172",
   "metadata": {},
   "outputs": [
    {
     "data": {
      "text/html": [],
      "text/latex": [],
      "text/markdown": [],
      "text/plain": [
       "integer(0)"
      ]
     },
     "metadata": {},
     "output_type": "display_data"
    }
   ],
   "source": [
    "which(is.na(counts_mat$Counts))"
   ]
  },
  {
   "cell_type": "code",
   "execution_count": null,
   "id": "250564a2",
   "metadata": {},
   "outputs": [],
   "source": [
    "nonzero_counts_plot=ggplot(counts_mat, aes(x = Counts, fill = Imputation)) +    # Create boxplot chart in ggplot2\n",
    "geom_histogram(binwidth=1,  boundary = 0)+theme_bw() +theme(text = element_text(size = 12)) + \n",
    "theme(axis.text.x = element_text(vjust = 0.5, hjust=1)) +  \n",
    "facet_grid(~Imputation_ordered , \n",
    "             #scales = \"free_x\", # Let the x axis vary across facets.\n",
    "             #space = \"free_x\" , #  # Let the width of facets vary and force all bars to have the same width.\n",
    "             switch = \"x\" )  +    # Move the facet labels to the bottom.\n",
    "xlab(\"Non-Zero Counts\") + ylab(\"Frequency\") \n",
    "labs(fill='Imputation Status') \n"
   ]
  },
  {
   "cell_type": "code",
   "execution_count": 62,
   "id": "6960f91c",
   "metadata": {},
   "outputs": [],
   "source": [
    "ggsave(nonzero_counts_plot, file=paste(figure_folder, \"/no_zero_histogram.pdf\", sep=\"\"), width = 7, height = 4, units =\"in\",  dpi = 300)\n",
    "ggsave(nonzero_counts_plot, file=paste(figure_folder, \"/no_zero_histogram.png\", sep=\"\"), width = 7, height = 4, units =\"in\",  dpi = 300)"
   ]
  },
  {
   "cell_type": "code",
   "execution_count": 352,
   "id": "8b85994d",
   "metadata": {},
   "outputs": [],
   "source": [
    "set.seed(1)\n",
    "tsne_result=Rtsne(t(bin_tf_data), check_duplicates = FALSE,  theta=0)\n"
   ]
  },
  {
   "cell_type": "code",
   "execution_count": 353,
   "id": "fba286c9",
   "metadata": {},
   "outputs": [],
   "source": [
    "tsne_out=data.frame(data=tsne_result$Y, labels=labels)"
   ]
  },
  {
   "cell_type": "code",
   "execution_count": 359,
   "id": "05428221",
   "metadata": {},
   "outputs": [],
   "source": [
    "#colors = rainbow(length(unique(labels)))\n",
    "#names(colors) = unique(labels)\n",
    "df <- data.frame(x = tsne_out[,1],\n",
    "                 y = tsne_out[,2], labels=tsne_out[,3])\n",
    "\n",
    "#Cancer_tissue =unlist(labels)\n",
    "tsne_plot=ggplot(df, aes(x=x, y=y)) +\n",
    "geom_point(aes(colour = factor(labels))) +\n",
    "xlab(\"tSNE Dimension 1\")+ ylab(\"tSNE Dimension 2\")+\n",
    "labs(color=\"Cell Type\")+ theme_bw() +theme(text = element_text(size = 12))  "
   ]
  },
  {
   "cell_type": "code",
   "execution_count": 360,
   "id": "bcaaa011",
   "metadata": {},
   "outputs": [],
   "source": [
    "ggsave(tsne_plot, file=paste(figure_folder, \"/tsne_plot.pdf\", sep=\"\"), width = 7, height = 4, units =\"in\",  dpi = 300)\n",
    "ggsave(tsne_plot, file=paste(figure_folder, \"/tsne_plot.png\", sep=\"\"), width = 7, height = 4, units =\"in\",  dpi = 300)"
   ]
  },
  {
   "cell_type": "code",
   "execution_count": null,
   "id": "874730ba",
   "metadata": {},
   "outputs": [],
   "source": [
    "# data inconsistency\n",
    "\n",
    "length(intersect(apply(((departure_raw_data>0)+0),2, function(x){toString(x)}),\n",
    "          apply(((destination_raw_data>0)+0),2, function(x){toString(x)})))"
   ]
  }
 ],
 "metadata": {
  "environment": {
   "kernel": "ir",
   "name": "r-cpu.4-1.m87",
   "type": "gcloud",
   "uri": "gcr.io/deeplearning-platform-release/r-cpu.4-1:m87"
  },
  "kernelspec": {
   "display_name": "R",
   "language": "R",
   "name": "ir"
  },
  "language_info": {
   "codemirror_mode": "r",
   "file_extension": ".r",
   "mimetype": "text/x-r-source",
   "name": "R",
   "pygments_lexer": "r",
   "version": "4.1.2"
  }
 },
 "nbformat": 4,
 "nbformat_minor": 5
}
