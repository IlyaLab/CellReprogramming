{
 "cells": [
  {
   "cell_type": "code",
   "execution_count": null,
   "id": "ff22bb1c",
   "metadata": {},
   "outputs": [],
   "source": [
    "rm(list=ls()) "
   ]
  },
  {
   "cell_type": "code",
   "execution_count": null,
   "id": "dc990d8e",
   "metadata": {},
   "outputs": [],
   "source": [
    "figure_folder=\"Figures\"\n",
    "dir.create(figure_folder)"
   ]
  },
  {
   "cell_type": "code",
   "execution_count": null,
   "id": "657ee775",
   "metadata": {},
   "outputs": [],
   "source": [
    "library(ggplot2)\n",
    "library(dplyr)\n",
    "library(Rtsne)"
   ]
  },
  {
   "cell_type": "code",
   "execution_count": null,
   "id": "58207c4a",
   "metadata": {},
   "outputs": [],
   "source": [
    "departure_cell=\"ProB\"\n",
    "destination_cell=\"Mono\""
   ]
  },
  {
   "cell_type": "code",
   "execution_count": null,
   "id": "5f1c33a9",
   "metadata": {},
   "outputs": [],
   "source": [
    "imputed_data=read.table(\"Data_prob_mono/scRecover+scImpute.csv\", sep=\",\", header=TRUE, row.names=1)"
   ]
  },
  {
   "cell_type": "code",
   "execution_count": null,
   "id": "7cc25d2d",
   "metadata": {},
   "outputs": [],
   "source": [
    "raw_data=read.table(\"Data_prob_mono/raw_data.csv\", sep=\",\", header=TRUE, row.names=1)"
   ]
  },
  {
   "cell_type": "code",
   "execution_count": null,
   "id": "324e1d2c",
   "metadata": {},
   "outputs": [],
   "source": [
    "rel_TFs=unlist(read.table(\"../TFS\", header=FALSE))"
   ]
  },
  {
   "cell_type": "code",
   "execution_count": null,
   "id": "8bb9c08e",
   "metadata": {},
   "outputs": [],
   "source": [
    "rel_TFs[rel_TFs==\"CEBPa\"]=\"CEBPA\"\n",
    "rel_TFs[rel_TFs==\"CEBPb\"]=\"CEBPB\"\n",
    "rel_TFs[rel_TFs==\"E2A\"]=\"TCF3\"\n",
    "rel_TFs[rel_TFs==\"EBF\"]=\"EBF1\"\n",
    "rel_TFs[rel_TFs==\"Eto2\"]=\"CBFA2T3\"\n",
    "rel_TFs[rel_TFs==\"Fli1\"]=\"FLI1\"\n",
    "rel_TFs[rel_TFs==\"Foxo1\"]=\"FOXO1\"\n",
    "rel_TFs[rel_TFs==\"Gata1\"]=\"GATA1\"\n",
    "rel_TFs[rel_TFs==\"Gata2\"]=\"GATA2\"\n",
    "rel_TFs[rel_TFs==\"Gfi1b\"]=\"GFI1B\"\n",
    "rel_TFs[rel_TFs==\"Ldb1\"]=\"LDB1\"\n",
    "rel_TFs[rel_TFs==\"Lmo2\"]=\"LMO2\"\n",
    "rel_TFs[rel_TFs==\"Lyl1\"]=\"LYL1\"\n",
    "rel_TFs[rel_TFs==\"Meis1\"]=\"MEIS1\"\n",
    "rel_TFs[rel_TFs==\"Mtgr1\"]=\"CBFA2T2\"\n",
    "rel_TFs[rel_TFs==\"Oct2\"]=\"POU2F2\"\n",
    "rel_TFs[rel_TFs==\"p300\"]=\"EP300\"\n",
    "rel_TFs[rel_TFs==\"P65\"]=\"RELA\"\n",
    "rel_TFs[rel_TFs==\"Pparg\"]=\"PPARG\"\n",
    "rel_TFs[rel_TFs==\"PU1\"]=\"SPI1\"\n",
    "rel_TFs[rel_TFs==\"Runx1\"]=\"RUNX1\"\n",
    "rel_TFs[rel_TFs==\"SCL\"]=\"TAL1\"\n",
    "rel_TFs[rel_TFs==\"Stat3\"]=\"STAT3\"\n",
    "rel_TFs[rel_TFs==\"Stat4\"]=\"STAT4\"\n",
    "rel_TFs[rel_TFs==\"Stat5a\"]=\"STAT5A\"\n",
    "rel_TFs[rel_TFs==\"Stat5b\"]=\"STAT5B\"\n",
    "rel_TFs[rel_TFs==\"Stat6\"]=\"STAT6\""
   ]
  },
  {
   "cell_type": "code",
   "execution_count": null,
   "id": "8f249c1b",
   "metadata": {},
   "outputs": [],
   "source": [
    "labels=read.table(\"cell_types_prob_mono.txt\", header=TRUE)\n",
    "rownames(labels)=unlist(labels[,\"CellID\"])"
   ]
  },
  {
   "cell_type": "code",
   "execution_count": null,
   "id": "4f29ee8c",
   "metadata": {},
   "outputs": [],
   "source": [
    "departure_cells=labels[which(labels[,\"CellType\"]==departure_cell),\"CellID\"]                       \n",
    "destination_cells=labels[which(labels[,\"CellType\"]==destination_cell),\"CellID\"]"
   ]
  },
  {
   "cell_type": "code",
   "execution_count": null,
   "id": "162d34a6",
   "metadata": {},
   "outputs": [],
   "source": [
    "TF_data=imputed_data[rel_TFs,]"
   ]
  },
  {
   "cell_type": "code",
   "execution_count": null,
   "id": "d762bb0b",
   "metadata": {},
   "outputs": [],
   "source": [
    "departure_data=TF_data[,departure_cells]\n",
    "destination_data=TF_data[,destination_cells]"
   ]
  },
  {
   "cell_type": "code",
   "execution_count": null,
   "id": "7974d832",
   "metadata": {},
   "outputs": [],
   "source": [
    "labels=c(unlist(labels[departure_cells,\"CellType\"]),unlist(labels[destination_cells,\"CellType\"]))"
   ]
  },
  {
   "cell_type": "code",
   "execution_count": null,
   "id": "ca14dbd5",
   "metadata": {},
   "outputs": [],
   "source": [
    "all_tf_data=cbind(departure_data, destination_data)\n",
    "bin_tf_data=(all_tf_data>0)+0"
   ]
  },
  {
   "cell_type": "code",
   "execution_count": null,
   "id": "37f41aec",
   "metadata": {},
   "outputs": [],
   "source": [
    "TF_raw_data=raw_data[rel_TFs,]\n",
    "departure_raw_data=TF_raw_data[,departure_cells]\n",
    "destination_raw_data=TF_raw_data[,destination_cells]\n",
    "all_tf_raw_data=cbind(departure_raw_data, destination_raw_data)"
   ]
  },
  {
   "cell_type": "code",
   "execution_count": null,
   "id": "be226eab",
   "metadata": {},
   "outputs": [],
   "source": [
    "zero_raw=length(which(all_tf_raw_data==0))\n",
    "non_zero_raw=length(which(all_tf_raw_data>0))\n",
    "zero_all=length(which(all_tf_data==0))\n",
    "non_zero_all=length(which(all_tf_data>0))\n",
    "changed=length(intersect(which(all_tf_raw_data==0), which(all_tf_data>0)))"
   ]
  },
  {
   "cell_type": "code",
   "execution_count": null,
   "id": "2d42a122",
   "metadata": {},
   "outputs": [],
   "source": [
    "counts_mat_raw= as.data.frame(cbind(unlist(all_tf_raw_data[all_tf_raw_data>0]), \"Before Imputation\"))\n",
    "counts_mat_imputed=as.data.frame(cbind(unlist(all_tf_data[all_tf_data>0]), \"After Imputation\"))\n",
    "colnames(counts_mat_raw)=c(\"Counts\", \"Imputation\")\n",
    "colnames(counts_mat_imputed)=c(\"Counts\", \"Imputation\")\n",
    "\n",
    "counts_mat_raw$Counts=as.numeric(counts_mat_raw$Counts)\n",
    "counts_mat_imputed$Counts=as.numeric(counts_mat_imputed$Counts)\n",
    "counts_mat=rbind(counts_mat_raw,counts_mat_imputed)\n",
    "counts_mat$Imputation_ordered = factor(counts_mat$Imputation, levels=c('Before Imputation','After Imputation'))"
   ]
  },
  {
   "cell_type": "code",
   "execution_count": null,
   "id": "250564a2",
   "metadata": {},
   "outputs": [],
   "source": [
    "nonzero_counts_plot=ggplot(counts_mat, aes(x = Counts, fill = Imputation)) +    # Create boxplot chart in ggplot2\n",
    "geom_histogram(binwidth=1,  boundary = 0)+theme_bw() +theme(text = element_text(size = 12)) + \n",
    "theme(axis.text.x = element_text(vjust = 1, hjust=1, angle = 45)) + scale_x_continuous(n.breaks =3) +\n",
    "facet_grid(~Imputation_ordered , \n",
    "             switch = \"x\" )  +  \n",
    "xlab(\"Non-Zero Counts\") + ylab(\"Frequency\") \n",
    "labs(fill='Imputation Status') \n"
   ]
  },
  {
   "cell_type": "code",
   "execution_count": null,
   "id": "6960f91c",
   "metadata": {},
   "outputs": [],
   "source": [
    "ggsave(nonzero_counts_plot, file=paste(figure_folder, \"/no_zero_histogram.pdf\", sep=\"\"), width = 7, height = 4, units =\"in\",  dpi = 300)\n",
    "ggsave(nonzero_counts_plot, file=paste(figure_folder, \"/no_zero_histogram.png\", sep=\"\"), width = 7, height = 4, units =\"in\",  dpi = 300)"
   ]
  },
  {
   "cell_type": "code",
   "execution_count": null,
   "id": "8b85994d",
   "metadata": {},
   "outputs": [],
   "source": [
    "set.seed(1)\n",
    "tsne_result=Rtsne(t(bin_tf_data), check_duplicates = FALSE,  theta=0)"
   ]
  },
  {
   "cell_type": "code",
   "execution_count": null,
   "id": "fba286c9",
   "metadata": {},
   "outputs": [],
   "source": [
    "tsne_out=data.frame(data=tsne_result$Y, labels=labels)"
   ]
  },
  {
   "cell_type": "code",
   "execution_count": null,
   "id": "05428221",
   "metadata": {},
   "outputs": [],
   "source": [
    "df <- data.frame(x = tsne_out[,1],\n",
    "                 y = tsne_out[,2], labels=tsne_out[,3])\n",
    "\n",
    "tsne_plot=ggplot(df, aes(x=x, y=y)) +\n",
    "geom_point(aes(colour = factor(labels))) +\n",
    "xlab(\"tSNE Dimension 1\")+ ylab(\"tSNE Dimension 2\")+\n",
    "labs(color=\"Cell Type\")+ theme_bw() +theme(text = element_text(size = 12))  "
   ]
  },
  {
   "cell_type": "code",
   "execution_count": null,
   "id": "bcaaa011",
   "metadata": {},
   "outputs": [],
   "source": [
    "ggsave(tsne_plot, file=paste(figure_folder, \"/tsne_plot.pdf\", sep=\"\"), width = 7, height = 4, units =\"in\",  dpi = 300)\n",
    "ggsave(tsne_plot, file=paste(figure_folder, \"/tsne_plot.png\", sep=\"\"), width = 7, height = 4, units =\"in\",  dpi = 300)"
   ]
  }
 ],
 "metadata": {
  "environment": {
   "kernel": "ir",
   "name": "r-cpu.4-1.m87",
   "type": "gcloud",
   "uri": "gcr.io/deeplearning-platform-release/r-cpu.4-1:m87"
  },
  "kernelspec": {
   "display_name": "R",
   "language": "R",
   "name": "ir"
  },
  "language_info": {
   "codemirror_mode": "r",
   "file_extension": ".r",
   "mimetype": "text/x-r-source",
   "name": "R",
   "pygments_lexer": "r",
   "version": "4.2.1"
  }
 },
 "nbformat": 4,
 "nbformat_minor": 5
}
