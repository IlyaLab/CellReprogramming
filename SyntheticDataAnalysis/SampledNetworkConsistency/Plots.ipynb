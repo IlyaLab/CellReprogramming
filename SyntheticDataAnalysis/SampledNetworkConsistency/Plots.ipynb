{
 "cells": [
  {
   "cell_type": "code",
   "execution_count": 6,
   "id": "a1c50601",
   "metadata": {},
   "outputs": [],
   "source": [
    "library(ggplot2)\n",
    "library(ggpubr)"
   ]
  },
  {
   "cell_type": "code",
   "execution_count": 98,
   "id": "b12a0aaf",
   "metadata": {},
   "outputs": [
    {
     "name": "stderr",
     "output_type": "stream",
     "text": [
      "Warning message in dir.create(figure_folder):\n",
      "“'Figures' already exists”\n"
     ]
    }
   ],
   "source": [
    "figure_folder=\"Figures\"\n",
    "dir.create(figure_folder)"
   ]
  },
  {
   "cell_type": "code",
   "execution_count": 2,
   "id": "65e01f2b",
   "metadata": {},
   "outputs": [],
   "source": [
    "prob_shift_folder=\"Probability_Shift_CSVs\"\n",
    "neg_pos_0=read.table(paste(prob_shift_folder, \"/neg_pos_0.csv\", sep=\"\"), sep=\",\")\n",
    "neg_pos_1=read.table(paste(prob_shift_folder, \"/neg_pos_1.csv\", sep=\"\"), sep=\",\")\n",
    "pos_neg_0=read.table(paste(prob_shift_folder, \"/pos_neg_0.csv\", sep=\"\"), sep=\",\")\n",
    "pos_neg_1=read.table(paste(prob_shift_folder, \"/pos_neg_1.csv\", sep=\"\"), sep=\",\")\n",
    "neg_neg_0=read.table(paste(prob_shift_folder, \"/neg_neg_0.csv\", sep=\"\"), sep=\",\")\n",
    "neg_neg_1=read.table(paste(prob_shift_folder, \"/neg_neg_1.csv\", sep=\"\"), sep=\",\")\n",
    "pos_pos_0=read.table(paste(prob_shift_folder, \"/pos_pos_0.csv\", sep=\"\"), sep=\",\")\n",
    "pos_pos_1=read.table(paste(prob_shift_folder, \"/pos_pos_1.csv\", sep=\"\"), sep=\",\")"
   ]
  },
  {
   "cell_type": "code",
   "execution_count": 93,
   "id": "49997c60",
   "metadata": {},
   "outputs": [],
   "source": [
    "all_shift=rbind(\n",
    "data.frame(InterventionType=\"U0_D1_I1\" ,PS=unlist(neg_pos_1), Group=\"Group4\"),\n",
    "data.frame(InterventionType=\"U1_D0_I0\" ,PS=unlist(pos_neg_0), Group=\"Group4\"),\n",
    "data.frame(InterventionType=\"U1_D0_I1\" ,PS=unlist(pos_neg_1), Group=\"Group3\"),\n",
    "data.frame(InterventionType=\"U0_D1_I0\" ,PS=unlist(neg_pos_0), Group=\"Group3\"),\n",
    "data.frame(InterventionType=\"U0_D0_I0\" ,PS=unlist(neg_neg_0), Group=\"Group1\"),\n",
    "data.frame(InterventionType=\"U1_D1_I1\" ,PS=unlist(pos_pos_1), Group=\"Group1\"),\n",
    "data.frame(InterventionType=\"U0_D0_I1\" ,PS=unlist(neg_neg_1), Group=\"Group2\"),\n",
    "data.frame(InterventionType=\"U1_D1_I0\" ,PS=unlist(pos_pos_0), Group=\"Group2\")\n",
    ")   \n"
   ]
  },
  {
   "cell_type": "code",
   "execution_count": 94,
   "id": "ee4da5f0",
   "metadata": {},
   "outputs": [],
   "source": [
    "ps_plot=ggplot(all_shift, aes(x = InterventionType, y = PS, fill = Group)) +    # Create boxplot chart in ggplot2\n",
    "geom_boxplot()+theme_bw() +theme(text = element_text(size = 12)) + \n",
    "theme(axis.text.x = element_text(angle = 45, vjust = 0.5, hjust=1)) +\n",
    "facet_grid(~Group, \n",
    "             scales = \"free_x\", # Let the x axis vary across facets.\n",
    "             space = \"free_x\",  # Let the width of facets vary and force all bars to have the same width.\n",
    "             switch = \"x\")  +    # Move the facet labels to the bottom.\n",
    "xlab(\"\")+ylab(\"Probability Mass Shift (PS)\") +\n",
    "labs(fill='Groups') \n",
    "\n"
   ]
  },
  {
   "cell_type": "code",
   "execution_count": null,
   "id": "5db09af6",
   "metadata": {},
   "outputs": [],
   "source": [
    "ps_plot"
   ]
  },
  {
   "cell_type": "code",
   "execution_count": 99,
   "id": "a9173000",
   "metadata": {},
   "outputs": [],
   "source": [
    "ggsave(ps_plot, file=paste(figure_folder, \"/consistency_prob_shift.pdf\", sep=\"\"), width = 7, height = 4, units =\"in\",  dpi = 300)\n",
    "ggsave(ps_plot, file=paste(figure_folder, \"/consistency_prob_shift.png\", sep=\"\"), width = 7, height = 4, units =\"in\",  dpi = 300)"
   ]
  }
 ],
 "metadata": {
  "environment": {
   "name": "r-cpu.4-0.m76",
   "type": "gcloud",
   "uri": "gcr.io/deeplearning-platform-release/r-cpu.4-0:m76"
  },
  "kernelspec": {
   "display_name": "R",
   "language": "R",
   "name": "ir"
  },
  "language_info": {
   "codemirror_mode": "r",
   "file_extension": ".r",
   "mimetype": "text/x-r-source",
   "name": "R",
   "pygments_lexer": "r",
   "version": "4.1.0"
  }
 },
 "nbformat": 4,
 "nbformat_minor": 5
}
