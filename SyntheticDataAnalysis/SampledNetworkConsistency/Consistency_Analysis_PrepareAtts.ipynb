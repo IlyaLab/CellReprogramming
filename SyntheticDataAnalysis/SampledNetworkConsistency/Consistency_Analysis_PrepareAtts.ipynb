{
 "cells": [
  {
   "cell_type": "code",
   "execution_count": 1,
   "id": "f4d2bfcd",
   "metadata": {},
   "outputs": [],
   "source": [
    "rm(list = ls())"
   ]
  },
  {
   "cell_type": "code",
   "execution_count": 2,
   "id": "d1d94bca",
   "metadata": {},
   "outputs": [
    {
     "name": "stderr",
     "output_type": "stream",
     "text": [
      "Loading required package: foreach\n",
      "\n",
      "Loading required package: iterators\n",
      "\n",
      "Package 'GA' version 3.2.2\n",
      "Type 'citation(\"GA\")' for citing this R package in publications.\n",
      "\n",
      "\n",
      "Attaching package: ‘GA’\n",
      "\n",
      "\n",
      "The following object is masked from ‘package:utils’:\n",
      "\n",
      "    de\n",
      "\n",
      "\n"
     ]
    }
   ],
   "source": [
    "library(GA)"
   ]
  },
  {
   "cell_type": "code",
   "execution_count": 3,
   "id": "5226a276",
   "metadata": {},
   "outputs": [],
   "source": [
    "set.seed(5)"
   ]
  },
  {
   "cell_type": "code",
   "execution_count": 4,
   "id": "91f45f5f",
   "metadata": {},
   "outputs": [],
   "source": [
    "number_of_repeats=100"
   ]
  },
  {
   "cell_type": "code",
   "execution_count": 5,
   "id": "a67e1025",
   "metadata": {},
   "outputs": [],
   "source": [
    "departure=  c(1,0,1,0,1,0,1,1,1,0)\n",
    "destination=c(1,0,0,1,0,1,0,0,1,1)\n",
    "departure_dec=binary2decimal(departure)\n",
    "destination_dec=binary2decimal(destination)\n",
    "attractors_vec=c(departure_dec, destination_dec)\n",
    "attractors=matrix(replicate(number_of_repeats, attractors_vec), nrow=number_of_repeats, byrow=TRUE)"
   ]
  },
  {
   "cell_type": "code",
   "execution_count": 6,
   "id": "0b936630",
   "metadata": {},
   "outputs": [],
   "source": [
    "parent_sampled_folder=\"Cons_Sampled_Network_Attractors\"\n",
    "dir.create(parent_sampled_folder)\n",
    "num_sub_bn_sets=100\n",
    "num_sel_bits=5\n",
    "num_bits=length(departure)\n",
    "n_genes"
   ]
  },
  {
   "cell_type": "code",
   "execution_count": 7,
   "id": "0ceb6f4a",
   "metadata": {},
   "outputs": [],
   "source": [
    "for (as in 1:nrow(attractors)){\n",
    "    sub_folder=paste(parent_sampled_folder, as, sep=\"/\")\n",
    "    dir.create(sub_folder) \n",
    "    inds=matrix(0, nrow=num_sub_bn_sets, ncol=num_sel_bits)\n",
    "    i=1\n",
    "    while (i<=num_sub_bn_sets){\n",
    "        sampled=unlist(sample(1:num_bits,num_sel_bits))\n",
    "        ats=sapply(attractors[as,], function(x){decimal2binary(x, n_genes)})\n",
    "        zz=apply(ats,2,function(x){binary2decimal(x[sampled])}) \n",
    "        if(!(any(table(zz)>1))){\n",
    "            write.table(file=paste(sub_folder , \"/attractors\" , i,  \".txt\", sep=\"\"), row.names=FALSE, col.names=FALSE, t(zz))\n",
    "            inds[i,]=sampled\n",
    "            i=i+1\n",
    "        }\n",
    "    }\n",
    "    for (node in 1:num_bits){\n",
    "        aa=which(apply(inds,1,function(x){length(which(x==node))>0})==TRUE)\n",
    "        if(length(unique(as.vector(inds[aa,])))<10)\n",
    "           print(paste(\"Node\", node,   \" is not seen together at least once with each of other nodes\", sep=\"\"))\n",
    "    }\n",
    "    write.table(file=paste(sub_folder , \"/attractor_info.txt\", sep=\"\"), row.names=FALSE, col.names=FALSE, c(1, length(zz), length(zz)))\n",
    "    write.table(file=paste(sub_folder ,\"/ind_matrix.txt\", sep=\"\"), row.names=FALSE, col.names=FALSE, inds)\n",
    "}"
   ]
  },
  {
   "cell_type": "code",
   "execution_count": null,
   "id": "7cf9a34b",
   "metadata": {},
   "outputs": [],
   "source": []
  }
 ],
 "metadata": {
  "environment": {
   "name": "r-cpu.4-0.m76",
   "type": "gcloud",
   "uri": "gcr.io/deeplearning-platform-release/r-cpu.4-0:m76"
  },
  "kernelspec": {
   "display_name": "R",
   "language": "R",
   "name": "ir"
  },
  "language_info": {
   "codemirror_mode": "r",
   "file_extension": ".r",
   "mimetype": "text/x-r-source",
   "name": "R",
   "pygments_lexer": "r",
   "version": "4.1.0"
  }
 },
 "nbformat": 4,
 "nbformat_minor": 5
}
