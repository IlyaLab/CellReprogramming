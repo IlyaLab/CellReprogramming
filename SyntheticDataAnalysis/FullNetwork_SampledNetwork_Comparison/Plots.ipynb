{
 "cells": [
  {
   "cell_type": "code",
   "execution_count": 6,
   "id": "c66d6906-68a3-4205-abbc-cf8196c7cff4",
   "metadata": {},
   "outputs": [
    {
     "name": "stderr",
     "output_type": "stream",
     "text": [
      "Installing package into ‘/home/jupyter/.R/library’\n",
      "(as ‘lib’ is unspecified)\n",
      "\n",
      "also installing the dependencies ‘future.apply’, ‘progressr’, ‘SQUAREM’, ‘lava’, ‘prodlim’, ‘proxy’, ‘gower’, ‘ipred’, ‘timeDate’, ‘e1071’, ‘ModelMetrics’, ‘pROC’, ‘recipes’, ‘reshape2’, ‘matrixStats’, ‘caret’, ‘numDeriv’, ‘SparseM’, ‘MatrixModels’, ‘conquer’, ‘minqa’, ‘nloptr’, ‘RcppEigen’, ‘carData’, ‘abind’, ‘pbkrtest’, ‘quantreg’, ‘maptools’, ‘lme4’, ‘corrplot’, ‘car’, ‘ggrepel’, ‘ggsci’, ‘cowplot’, ‘ggsignif’, ‘polynom’, ‘rstatix’\n",
      "\n",
      "\n"
     ]
    }
   ],
   "source": [
    "install.packages(\"ggpubr\")"
   ]
  },
  {
   "cell_type": "code",
   "execution_count": 7,
   "id": "50cc0af6",
   "metadata": {},
   "outputs": [],
   "source": [
    "library(ggplot2)\n",
    "library(gridExtra)\n",
    "library(ggpubr)"
   ]
  },
  {
   "cell_type": "code",
   "execution_count": 8,
   "id": "05e5be86",
   "metadata": {},
   "outputs": [
    {
     "name": "stderr",
     "output_type": "stream",
     "text": [
      "Warning message in dir.create(figure_folder):\n",
      "“'Figures' already exists”\n"
     ]
    }
   ],
   "source": [
    "figure_folder=\"Figures\"\n",
    "dir.create(figure_folder)"
   ]
  },
  {
   "cell_type": "markdown",
   "id": "4c3df031",
   "metadata": {},
   "source": [
    "Cell States Probabilities Plot"
   ]
  },
  {
   "cell_type": "code",
   "execution_count": 9,
   "id": "2dc4466d",
   "metadata": {},
   "outputs": [],
   "source": [
    "prob_folder=\"CellState_Probability_CSVs\"\n",
    "full_network_att_probs=read.table(paste(prob_folder,\"/full_network_att_probs.csv\", sep=\"\"), sep=\",\")\n",
    "sampled_network_att_probs=read.table(paste(prob_folder,\"/sampled_network_att_probs.csv\", sep=\"\"), sep=\",\")\n"
   ]
  },
  {
   "cell_type": "code",
   "execution_count": 10,
   "id": "66d4ce62",
   "metadata": {},
   "outputs": [],
   "source": [
    "full_probs=unlist(full_network_att_probs)"
   ]
  },
  {
   "cell_type": "code",
   "execution_count": 11,
   "id": "7da2ddbd",
   "metadata": {},
   "outputs": [],
   "source": [
    "sampled_probs=unlist(sampled_network_att_probs)"
   ]
  },
  {
   "cell_type": "code",
   "execution_count": 12,
   "id": "cd7a24b4",
   "metadata": {},
   "outputs": [],
   "source": [
    "\n",
    "p1=qplot(full_probs, geom=\"histogram\",  breaks=seq(0,1,0.05),  \n",
    "      xlab=\"Cell States' SSPs in the PBNs \\n(Full Network Approach)\", \n",
    "      ylab= \"Counts of Cell States (Total=200)\",\n",
    "      fill=I(\"dodgerblue2\") ) +theme_bw()+theme(text = element_text(size = 10))+  ylim(0, 120)\n",
    "            \n",
    "\n",
    "p2=qplot(sampled_probs, geom=\"histogram\",  breaks=seq(0,1,0.05),  \n",
    "      xlab=\"Cell States' SSPs in the PBNs \\n (Sampled Network Approach)\", \n",
    "      ylab= \"Counts of Cell States (Total=200)\",\n",
    "      fill=I(\"dodgerblue2\") ) +theme_bw() +theme(text = element_text(size = 10)) +   ylim(0, 120)            \n",
    "\n",
    "#plot=grid.arrange(p1, p2, nrow = 1,  labels=c(\"A\", \"B\"))\n",
    "plot=ggarrange(p1, p2, nrow = 1, labels = c(\"a\", \"b\"))\n"
   ]
  },
  {
   "cell_type": "code",
   "execution_count": 13,
   "id": "42214f13",
   "metadata": {},
   "outputs": [
    {
     "data": {
      "image/png": "[encoded data removed]",
      "text/plain": [
       "plot without title"
      ]
     },
     "metadata": {
      "image/png": {
       "height": 420,
       "width": 420
      }
     },
     "output_type": "display_data"
    }
   ],
   "source": [
    "plot"
   ]
  },
  {
   "cell_type": "code",
   "execution_count": 14,
   "id": "e3080aea",
   "metadata": {},
   "outputs": [],
   "source": [
    "ggsave(plot, file=paste(figure_folder, \"/cell_states.pdf\", sep=\"\"), width = 7, height = 4, units =\"in\",  dpi = 300)\n",
    "ggsave(plot, file=paste(figure_folder, \"/cell_states.png\", sep=\"\"), width = 7, height = 4, units =\"in\",  dpi = 300)"
   ]
  },
  {
   "cell_type": "markdown",
   "id": "71105b2a",
   "metadata": {},
   "source": [
    "Probability Shift Plots "
   ]
  },
  {
   "cell_type": "code",
   "execution_count": 272,
   "id": "94ce588c",
   "metadata": {},
   "outputs": [],
   "source": [
    "prob_shift_folder=\"Probability_Shift_CSVs\"\n",
    "neg_pos_1_full=read.table(paste(prob_shift_folder, \"/neg_pos_1_full.csv\", sep=\"\"), sep=\",\")\n",
    "neg_pos_1_sampled=read.table(paste(prob_shift_folder, \"/neg_pos_1_sampled.csv\", sep=\"\"), sep=\",\")\n",
    "pos_neg_0_full=read.table(paste(prob_shift_folder, \"/pos_neg_0_full.csv\", sep=\"\"), sep=\",\")\n",
    "pos_neg_0_sampled=read.table(paste(prob_shift_folder, \"/pos_neg_0_sampled.csv\", sep=\"\"), sep=\",\")"
   ]
  },
  {
   "cell_type": "code",
   "execution_count": 287,
   "id": "4b996340",
   "metadata": {},
   "outputs": [
    {
     "data": {
      "text/html": [
       "252"
      ],
      "text/latex": [
       "252"
      ],
      "text/markdown": [
       "252"
      ],
      "text/plain": [
       "[1] 252"
      ]
     },
     "metadata": {},
     "output_type": "display_data"
    }
   ],
   "source": [
    "length(unlist(neg_pos_1_full))"
   ]
  },
  {
   "cell_type": "code",
   "execution_count": 288,
   "id": "219fcb83",
   "metadata": {},
   "outputs": [
    {
     "data": {
      "text/html": [
       "266"
      ],
      "text/latex": [
       "266"
      ],
      "text/markdown": [
       "266"
      ],
      "text/plain": [
       "[1] 266"
      ]
     },
     "metadata": {},
     "output_type": "display_data"
    }
   ],
   "source": [
    "length(unlist(pos_neg_0_sampled))"
   ]
  },
  {
   "cell_type": "code",
   "execution_count": 289,
   "id": "cfe7e19a",
   "metadata": {},
   "outputs": [],
   "source": [
    "all_shift=rbind(data.frame(Group=\"U0_D1_I1\" ,PS=unlist(neg_pos_1_full), Network=\"Full Network\"),\n",
    "data.frame(Group=\"U0_D1_I1\" ,PS=unlist(neg_pos_1_sampled), Network=\"Sampled Network\"),\n",
    "data.frame(Group=\"U1_D0_I0\" ,PS=unlist(pos_neg_0_full), Network=\"Full Network\"),\n",
    "data.frame(Group=\"U1_D0_I0\" ,PS=unlist(pos_neg_0_sampled), Network=\"Sampled Network\"))\n"
   ]
  },
  {
   "cell_type": "code",
   "execution_count": 292,
   "id": "2c3db059",
   "metadata": {},
   "outputs": [],
   "source": [
    "ps_plot=ggplot(all_shift, aes(x = Group, y = PS, fill = Network)) +    # Create boxplot chart in ggplot2\n",
    " geom_boxplot()+theme_bw() +#theme(text = element_text(size = 10))+\n",
    "xlab(\"Groups\")+ylab(\"Probability Mass Shift (PS)\") +\n",
    "labs(fill='Network Type') + \n",
    "theme(axis.text.x = element_text(angle = 45, vjust = 0.5, hjust=1))"
   ]
  },
  {
   "cell_type": "code",
   "execution_count": 293,
   "id": "42049e2f",
   "metadata": {},
   "outputs": [
    {
     "data": {
      "image/png": "[encoded data removed]",
      "text/plain": [
       "plot without title"
      ]
     },
     "metadata": {
      "image/png": {
       "height": 420,
       "width": 420
      }
     },
     "output_type": "display_data"
    }
   ],
   "source": [
    "ps_plot"
   ]
  },
  {
   "cell_type": "code",
   "execution_count": 294,
   "id": "07479c25",
   "metadata": {},
   "outputs": [],
   "source": [
    "ggsave(ps_plot, file=paste(figure_folder, \"/prob_shift.pdf\", sep=\"\"), width = 7, height = 4, units =\"in\",  dpi = 300)\n",
    "ggsave(ps_plot, file=paste(figure_folder, \"/prob_shift.png\", sep=\"\"), width = 7, height = 4, units =\"in\",  dpi = 300)"
   ]
  },
  {
   "cell_type": "markdown",
   "id": "3b20f108",
   "metadata": {},
   "source": [
    "correlation plots"
   ]
  },
  {
   "cell_type": "code",
   "execution_count": 297,
   "id": "65208188",
   "metadata": {},
   "outputs": [],
   "source": [
    "correlation_folder=\"Correlation_CSVs\"\n",
    "all_correlations=read.table(paste(correlation_folder, \"/all_correlation.csv\", sep=\"\"), sep=\",\")\n",
    "att_grouped_correlations=read.table(paste(correlation_folder, \"/attractor_grouped_correlation.csv\", sep=\"\"), sep=\",\")\n"
   ]
  },
  {
   "cell_type": "code",
   "execution_count": 298,
   "id": "a5ed3ee8",
   "metadata": {},
   "outputs": [],
   "source": [
    "correlation_data=rbind(data.frame(Type=\"Intervention\" ,Correlation=unlist(all_correlations)),\n",
    "data.frame(Type=\"CellStatePair\", Correlation=unlist(att_grouped_correlations)))\n"
   ]
  },
  {
   "cell_type": "code",
   "execution_count": 299,
   "id": "1780e936",
   "metadata": {},
   "outputs": [
    {
     "data": {
      "text/html": [
       "518"
      ],
      "text/latex": [
       "518"
      ],
      "text/markdown": [
       "518"
      ],
      "text/plain": [
       "[1] 518"
      ]
     },
     "metadata": {},
     "output_type": "display_data"
    }
   ],
   "source": [
    "length(unlist(all_correlations))"
   ]
  },
  {
   "cell_type": "code",
   "execution_count": 300,
   "id": "27d8b04a",
   "metadata": {},
   "outputs": [
    {
     "data": {
      "text/html": [
       "100"
      ],
      "text/latex": [
       "100"
      ],
      "text/markdown": [
       "100"
      ],
      "text/plain": [
       "[1] 100"
      ]
     },
     "metadata": {},
     "output_type": "display_data"
    }
   ],
   "source": [
    "length(unlist(att_grouped_correlations))"
   ]
  },
  {
   "cell_type": "code",
   "execution_count": 301,
   "id": "05210691",
   "metadata": {},
   "outputs": [],
   "source": [
    "correlation=rbind(data.frame(Group=\"Per Intervention\", Correlation=unlist(all_correlations)),\n",
    "data.frame(Group=\"Per Cell State Pair\" , Correlation=unlist(att_grouped_correlations)))\n"
   ]
  },
  {
   "cell_type": "code",
   "execution_count": 318,
   "id": "f5529e56",
   "metadata": {},
   "outputs": [],
   "source": [
    "correlation_plot=ggplot(correlation, aes(x = Group, y = Correlation)) +    # Create boxplot chart in ggplot2\n",
    "geom_boxplot()+theme_bw() + #+ theme(text = element_text(size = 10))+\n",
    "#theme(axis.text.x = element_text(angle = 0, vjust = 0.5, hjust=1))+\n",
    "xlab(\"\")\n"
   ]
  },
  {
   "cell_type": "code",
   "execution_count": 319,
   "id": "1c84f7e9",
   "metadata": {},
   "outputs": [
    {
     "data": {
      "image/png": "[encoded data removed]",
      "text/plain": [
       "plot without title"
      ]
     },
     "metadata": {
      "image/png": {
       "height": 420,
       "width": 420
      }
     },
     "output_type": "display_data"
    }
   ],
   "source": [
    "correlation_plot"
   ]
  },
  {
   "cell_type": "code",
   "execution_count": 320,
   "id": "7b230229",
   "metadata": {},
   "outputs": [],
   "source": [
    "ggsave(correlation_plot, file=paste(figure_folder, \"/correlation.pdf\", sep=\"\"), width = 7, height = 4, units =\"in\",  dpi = 300)\n",
    "ggsave(correlation_plot, file=paste(figure_folder, \"/correlation.png\", sep=\"\"), width = 7, height = 4, units =\"in\",  dpi = 300)"
   ]
  },
  {
   "cell_type": "code",
   "execution_count": null,
   "id": "b21b2e8e",
   "metadata": {},
   "outputs": [],
   "source": []
  }
 ],
 "metadata": {
  "environment": {
   "kernel": "ir",
   "name": "r-cpu.4-1.m87",
   "type": "gcloud",
   "uri": "gcr.io/deeplearning-platform-release/r-cpu.4-1:m87"
  },
  "kernelspec": {
   "display_name": "R",
   "language": "R",
   "name": "ir"
  },
  "language_info": {
   "codemirror_mode": "r",
   "file_extension": ".r",
   "mimetype": "text/x-r-source",
   "name": "R",
   "pygments_lexer": "r",
   "version": "4.1.2"
  }
 },
 "nbformat": 4,
 "nbformat_minor": 5
}
