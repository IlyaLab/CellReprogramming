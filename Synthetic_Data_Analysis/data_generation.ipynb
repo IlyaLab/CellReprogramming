{
 "cells": [
  {
   "cell_type": "code",
   "execution_count": 4,
   "metadata": {},
   "outputs": [],
   "source": [
    "import numpy as np\n",
    "import os \n",
    "import random\n",
    "import shutil"
   ]
  },
  {
   "cell_type": "code",
   "execution_count": 5,
   "metadata": {},
   "outputs": [],
   "source": [
    "num_bits=10\n",
    "num_att_sets=100\n",
    "num_attrs=2\n",
    "random.seed(10)\n",
    "\n",
    "sel=random.sample(range(pow(2,num_bits)), k=num_attrs*num_att_sets)\n",
    "sets=np.array(np.reshape(['{0:010b}'.format(x) for x in sel], (num_att_sets, num_attrs)))"
   ]
  },
  {
   "cell_type": "code",
   "execution_count": 6,
   "metadata": {},
   "outputs": [],
   "source": [
    "np.savetxt(\"attractors.txt\",np.reshape( sel, (num_att_sets, num_attrs)), fmt='%.0f')"
   ]
  },
  {
   "cell_type": "code",
   "execution_count": 8,
   "metadata": {},
   "outputs": [],
   "source": [
    "parent_folder=\"Full_Network/Full_AttractorSet\"\n",
    "if  os.path.exists(parent_folder):\n",
    "    shutil.rmtree(parent_folder)\n",
    "os.mkdir(parent_folder)"
   ]
  },
  {
   "cell_type": "code",
   "execution_count": 9,
   "metadata": {},
   "outputs": [],
   "source": [
    "# FOR full network\n",
    "nBNsets=50\n",
    "att_info=np.reshape([1, 2 ,2], (3,1))\n",
    "for j in range(int((np.size(sets)/2))):\n",
    "    int_attractors=[int(sets[j][0],2), int(sets[j][1],2)]\n",
    "    os.mkdir(parent_folder +'/' + str(j))\n",
    "    for i in range(nBNsets):\n",
    "        np.savetxt(parent_folder+ '/' + str(j) + \"/attractor_info\" + str(i) + \".txt\",att_info, fmt='%.0f')\n",
    "        np.savetxt(parent_folder+ '/' + str(j) + \"/attractors\" + str(i) + \".txt\",np.reshape(int_attractors,(1,2)) , fmt='%.0f')"
   ]
  },
  {
   "cell_type": "code",
   "execution_count": 10,
   "metadata": {},
   "outputs": [],
   "source": [
    "######### For subsampled network\n",
    " # random sampling without replacement\n",
    "num_bn_sets=100\n",
    "num_sel_bits=5\n",
    "folder=\"Sampled_Network/Sampled_Attractor_Sets\"\n",
    "if  os.path.exists(folder):\n",
    "    shutil.rmtree(folder)\n",
    "os.mkdir(folder)   \n",
    "num_att=2\n",
    "bn_set={}\n",
    "random.seed(5)\n",
    "for s in range(int(np.size(sets)/2)):\n",
    "    os.mkdir(folder + \"/\" + str(s) )   \n",
    "    att_matrix=[]\n",
    "    attractors=sets[s]\n",
    "    for i in range(num_bn_sets):\n",
    "        x=random.sample(range(num_bits), k=num_sel_bits)\n",
    "        att_matrix.append(x)\n",
    "        att_set=[]\n",
    "        for j in range(num_att): \n",
    "            binary_att=[]\n",
    "            for h in range(num_sel_bits):\n",
    "                binary_att.append(attractors[j][x[h]])\n",
    "            att_set.append(int(\"\".join(binary_att),2))\n",
    "        np.savetxt(folder + \"/\" + str(s) + \"/attractors\" + str(i)+ \".txt\", [att_set], fmt='%.0f')\n",
    "        np.savetxt(folder + \"/\" + str(s)+ \"/attractor_info\" + str(i) +\".txt\", att_info, fmt='%.0f')\n",
    "    np.savetxt(folder + \"/\" + str(s) + \"/indices.txt\", att_matrix, fmt='%.0f')"
   ]
  }
 ],
 "metadata": {
  "kernelspec": {
   "display_name": "Python 3",
   "language": "python",
   "name": "python3"
  },
  "language_info": {
   "codemirror_mode": {
    "name": "ipython",
    "version": 3
   },
   "file_extension": ".py",
   "mimetype": "text/x-python",
   "name": "python",
   "nbconvert_exporter": "python",
   "pygments_lexer": "ipython3",
   "version": "3.7.6"
  }
 },
 "nbformat": 4,
 "nbformat_minor": 4
}
